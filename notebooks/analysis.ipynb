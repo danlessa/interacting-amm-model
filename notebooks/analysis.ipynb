{
 "cells": [
  {
   "cell_type": "markdown",
   "id": "d3ecf2d1",
   "metadata": {},
   "source": [
    "# Interacting AMMs Model"
   ]
  },
  {
   "cell_type": "code",
   "execution_count": 1,
   "id": "e7af79bb",
   "metadata": {},
   "outputs": [
    {
     "name": "stdout",
     "output_type": "stream",
     "text": [
      "time: 1.34 ms (started: 2021-05-10 12:30:24 -03:00)\n"
     ]
    }
   ],
   "source": [
    "%load_ext autotime"
   ]
  },
  {
   "cell_type": "code",
   "execution_count": 2,
   "id": "b4cd13ce",
   "metadata": {},
   "outputs": [
    {
     "name": "stdout",
     "output_type": "stream",
     "text": [
      "time: 1.76 ms (started: 2021-05-10 12:30:24 -03:00)\n"
     ]
    }
   ],
   "source": [
    "import sys\n",
    "sys.path.append(\"..\")"
   ]
  },
  {
   "cell_type": "code",
   "execution_count": 3,
   "id": "67623219-0862-4c5b-9a6b-93d469be6b06",
   "metadata": {},
   "outputs": [
    {
     "name": "stdout",
     "output_type": "stream",
     "text": [
      "time: 1.97 s (started: 2021-05-10 12:30:24 -03:00)\n"
     ]
    }
   ],
   "source": [
    "import plotly.express as px\n",
    "import pandas as pd\n",
    "import plotly.io as pio\n",
    "pio.renderers.default = \"jupyterlab\""
   ]
  },
  {
   "cell_type": "code",
   "execution_count": 4,
   "id": "17effdd6",
   "metadata": {},
   "outputs": [
    {
     "ename": "NameError",
     "evalue": "name 'Fiat' is not defined",
     "output_type": "error",
     "traceback": [
      "\u001b[0;31m---------------------------------------------------------------------------\u001b[0m",
      "\u001b[0;31mNameError\u001b[0m                                 Traceback (most recent call last)",
      "\u001b[0;32m<ipython-input-4-91e065dbce7a>\u001b[0m in \u001b[0;36m<module>\u001b[0;34m\u001b[0m\n\u001b[1;32m      1\u001b[0m \u001b[0;32mfrom\u001b[0m \u001b[0mcadCAD_tools\u001b[0m \u001b[0;32mimport\u001b[0m \u001b[0measy_run\u001b[0m\u001b[0;34m\u001b[0m\u001b[0;34m\u001b[0m\u001b[0m\n\u001b[1;32m      2\u001b[0m \u001b[0;34m\u001b[0m\u001b[0m\n\u001b[0;32m----> 3\u001b[0;31m \u001b[0;32mfrom\u001b[0m \u001b[0minteracting_amm_model\u001b[0m \u001b[0;32mimport\u001b[0m \u001b[0minitial_state\u001b[0m\u001b[0;34m,\u001b[0m \u001b[0mparams\u001b[0m\u001b[0;34m\u001b[0m\u001b[0;34m\u001b[0m\u001b[0m\n\u001b[0m\u001b[1;32m      4\u001b[0m \u001b[0;32mfrom\u001b[0m \u001b[0minteracting_amm_model\u001b[0m \u001b[0;32mimport\u001b[0m \u001b[0mtimestep_block\u001b[0m\u001b[0;34m,\u001b[0m \u001b[0mN_timesteps\u001b[0m\u001b[0;34m,\u001b[0m \u001b[0mN_samples\u001b[0m\u001b[0;34m\u001b[0m\u001b[0;34m\u001b[0m\u001b[0m\n\u001b[1;32m      5\u001b[0m \u001b[0;32mfrom\u001b[0m \u001b[0minteracting_amm_model\u001b[0m\u001b[0;34m.\u001b[0m\u001b[0mmodel\u001b[0m \u001b[0;32mimport\u001b[0m \u001b[0msweep_params\u001b[0m\u001b[0;34m\u001b[0m\u001b[0;34m\u001b[0m\u001b[0m\n",
      "\u001b[0;32m~/repos/danlessa/interacting-amm-model/interacting_amm_model/__init__.py\u001b[0m in \u001b[0;36m<module>\u001b[0;34m\u001b[0m\n\u001b[0;32m----> 1\u001b[0;31m \u001b[0;32mfrom\u001b[0m \u001b[0minteracting_amm_model\u001b[0m\u001b[0;34m.\u001b[0m\u001b[0mmodel\u001b[0m \u001b[0;32mimport\u001b[0m \u001b[0minitial_state\u001b[0m\u001b[0;34m,\u001b[0m \u001b[0mparams\u001b[0m\u001b[0;34m,\u001b[0m \u001b[0mtimestep_block\u001b[0m\u001b[0;34m,\u001b[0m \u001b[0mN_timesteps\u001b[0m\u001b[0;34m,\u001b[0m \u001b[0mN_samples\u001b[0m\u001b[0;34m\u001b[0m\u001b[0;34m\u001b[0m\u001b[0m\n\u001b[0m",
      "\u001b[0;32m~/repos/danlessa/interacting-amm-model/interacting_amm_model/model.py\u001b[0m in \u001b[0;36m<module>\u001b[0;34m\u001b[0m\n\u001b[1;32m     94\u001b[0m \u001b[0;31m# Simulation Initial State\u001b[0m\u001b[0;34m\u001b[0m\u001b[0;34m\u001b[0m\u001b[0;34m\u001b[0m\u001b[0m\n\u001b[1;32m     95\u001b[0m initial_state = {\n\u001b[0;32m---> 96\u001b[0;31m     \u001b[0;34m'market_price'\u001b[0m\u001b[0;34m:\u001b[0m \u001b[0mInitialValue\u001b[0m\u001b[0;34m(\u001b[0m\u001b[0;36m5\u001b[0m\u001b[0;34m,\u001b[0m \u001b[0mFiat\u001b[0m\u001b[0;34m)\u001b[0m\u001b[0;34m,\u001b[0m\u001b[0;34m\u001b[0m\u001b[0;34m\u001b[0m\u001b[0m\n\u001b[0m\u001b[1;32m     97\u001b[0m     \u001b[0;34m'pair_state'\u001b[0m\u001b[0;34m:\u001b[0m \u001b[0mInitialValue\u001b[0m\u001b[0;34m(\u001b[0m\u001b[0mpair_states\u001b[0m\u001b[0;34m,\u001b[0m \u001b[0mAMM_States\u001b[0m\u001b[0;34m)\u001b[0m\u001b[0;34m\u001b[0m\u001b[0;34m\u001b[0m\u001b[0m\n\u001b[1;32m     98\u001b[0m }\n",
      "\u001b[0;31mNameError\u001b[0m: name 'Fiat' is not defined"
     ]
    },
    {
     "name": "stdout",
     "output_type": "stream",
     "text": [
      "time: 510 ms (started: 2021-05-10 12:30:26 -03:00)\n"
     ]
    }
   ],
   "source": [
    "from cadCAD_tools import easy_run\n",
    "\n",
    "from interacting_amm_model import initial_state, params\n",
    "from interacting_amm_model import timestep_block, N_timesteps, N_samples\n",
    "from interacting_amm_model.model import sweep_params\n",
    "\n",
    "results = (easy_run(initial_state,\n",
    "                    params,\n",
    "                    timestep_block,\n",
    "                    N_timesteps,\n",
    "                    N_samples,\n",
    "                    assign_params=sweep_params)\n",
    "           .reset_index())"
   ]
  },
  {
   "cell_type": "code",
   "execution_count": null,
   "id": "70a90561",
   "metadata": {},
   "outputs": [],
   "source": [
    "sweep_params"
   ]
  },
  {
   "cell_type": "code",
   "execution_count": null,
   "id": "64309a15",
   "metadata": {},
   "outputs": [],
   "source": [
    "fig_df = results.query('timestep > 5')\n",
    "\n",
    "fig = px.line(fig_df,\n",
    "              x='timestep',\n",
    "              y='market_price',\n",
    "              line_group='run',\n",
    "              facet_col='arbitrage_intensity',\n",
    "              facet_row='swap_vs_liquidity_preference',\n",
    "              color='user_action_intensity',\n",
    "              log_y=True,\n",
    "              title='Market Price Across Samples')\n",
    "fig.show()"
   ]
  },
  {
   "cell_type": "code",
   "execution_count": null,
   "id": "e2baa7b4",
   "metadata": {},
   "outputs": [],
   "source": [
    "fig_df = results.query('timestep > 5')\n",
    "fig = px.line(fig_df,\n",
    "              x='timestep',\n",
    "              y='market_price_volatility',\n",
    "              line_group='run',\n",
    "              facet_col='arbitrage_intensity',\n",
    "              facet_row='swap_vs_liquidity_preference',\n",
    "              color='user_action_intensity',\n",
    "              log_y=True,\n",
    "              title='Market Price Volatility Across Samples')\n",
    "fig.show()"
   ]
  },
  {
   "cell_type": "code",
   "execution_count": null,
   "id": "f24152ba",
   "metadata": {},
   "outputs": [],
   "source": [
    "from interacting_amm_model.model import amms\n",
    "\n",
    "for amm in amms.values():\n",
    "    amm_df = pd.DataFrame(results.pair_state\n",
    "                          .map(lambda s: s[amm.label])\n",
    "                          .tolist()\n",
    "                          )\n",
    "\n",
    "    amm_df = amm_df.add_prefix(f\"{amm.label}_\")\n",
    "    results = results.join(amm_df)"
   ]
  },
  {
   "cell_type": "code",
   "execution_count": null,
   "id": "07482fb6",
   "metadata": {},
   "outputs": [],
   "source": [
    "y_cols = [f\"{amm.label}_reserve_token_1\" for amm in amms.values()]\n",
    "\n",
    "fig = px.line(results,\n",
    "              x='timestep',\n",
    "              y=y_cols,\n",
    "              facet_col='subset',\n",
    "              line_group='run')\n",
    "fig.show()"
   ]
  },
  {
   "cell_type": "code",
   "execution_count": null,
   "id": "c15bf600",
   "metadata": {},
   "outputs": [],
   "source": [
    "y_cols = [f\"{amm.label}_reserve_token_2\" for amm in amms.values()]\n",
    "\n",
    "fig = px.line(results,\n",
    "              x='timestep',\n",
    "              y=y_cols,\n",
    "              facet_col='arbitrage_intensity',\n",
    "              line_group='run')\n",
    "\n",
    "fig.show()"
   ]
  },
  {
   "cell_type": "code",
   "execution_count": null,
   "id": "2f062899",
   "metadata": {},
   "outputs": [],
   "source": []
  }
 ],
 "metadata": {
  "kernelspec": {
   "display_name": "Python 3",
   "language": "python",
   "name": "python3"
  },
  "language_info": {
   "codemirror_mode": {
    "name": "ipython",
    "version": 3
   },
   "file_extension": ".py",
   "mimetype": "text/x-python",
   "name": "python",
   "nbconvert_exporter": "python",
   "pygments_lexer": "ipython3",
   "version": "3.9.2"
  },
  "metadata": {
   "interpreter": {
    "hash": "407c971553c0b46ca14162fd186c8542ac5bc58ef6ba5dfe170fa11c180f8bbc"
   }
  }
 },
 "nbformat": 4,
 "nbformat_minor": 5
}
